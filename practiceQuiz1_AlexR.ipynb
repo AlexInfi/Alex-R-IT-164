{
  "nbformat": 4,
  "nbformat_minor": 0,
  "metadata": {
    "colab": {
      "provenance": [],
      "authorship_tag": "ABX9TyOidj46PqKeGmpTQefykPNZ",
      "include_colab_link": true
    },
    "kernelspec": {
      "name": "python3",
      "display_name": "Python 3"
    },
    "language_info": {
      "name": "python"
    }
  },
  "cells": [
    {
      "cell_type": "markdown",
      "metadata": {
        "id": "view-in-github",
        "colab_type": "text"
      },
      "source": [
        "<a href=\"https://colab.research.google.com/github/AlexInfi/Alex-R-IT-164/blob/main/practiceQuiz1_AlexR.ipynb\" target=\"_parent\"><img src=\"https://colab.research.google.com/assets/colab-badge.svg\" alt=\"Open In Colab\"/></a>"
      ]
    },
    {
      "cell_type": "code",
      "execution_count": 13,
      "metadata": {
        "colab": {
          "base_uri": "https://localhost:8080/"
        },
        "id": "UqmMtBMhQLaD",
        "outputId": "106f5d91-e009-43ee-cb99-302150b7105e"
      },
      "outputs": [
        {
          "output_type": "stream",
          "name": "stdout",
          "text": [
            "What is the width of the rectangle: 1.4\n",
            "What is the height of the rectangle: 5.6\n",
            "The perimeter of a rectangle with width 1.4 and height 5.6 is 14.00, and the area is 7.84\n"
          ]
        }
      ],
      "source": [
        "#Question 1\n",
        "width = float(input(\"What is the width of the rectangle: \"))\n",
        "height = float(input(\"What is the height of the rectangle: \"))\n",
        "\n",
        "perimeter = 2 * (width + height)\n",
        "area = width * height\n",
        "\n",
        "print (\"The perimeter of a rectangle with width\", width, \"and height\", height, \"is {:.2f}, and the area is {:.2f}\".format (perimeter, area))"
      ]
    },
    {
      "cell_type": "code",
      "source": [
        "#Question 2\n",
        "weight = float(input(\"What is your weight in lbs: \"))\n",
        "height = float(input(\"What is your height in inches: \"))\n",
        "\n",
        "BMI = (weight / (height**2)) * 703\n",
        "\n",
        "print (\"Your BMI with weight {:.1f} lbs and {:.1f} inches is {:.1f}\".format (weight, height, BMI))"
      ],
      "metadata": {
        "colab": {
          "base_uri": "https://localhost:8080/"
        },
        "id": "7_d3YL3rQWCB",
        "outputId": "d2e4f154-cdc1-40fd-f94d-22fad56ec208"
      },
      "execution_count": 10,
      "outputs": [
        {
          "output_type": "stream",
          "name": "stdout",
          "text": [
            "What is your weight in lbs: 138\n",
            "What is your height in inches: 63\n",
            "Your BMI with weight 138.0 lbs and 63.0 inches is 24.4\n"
          ]
        }
      ]
    }
  ]
}