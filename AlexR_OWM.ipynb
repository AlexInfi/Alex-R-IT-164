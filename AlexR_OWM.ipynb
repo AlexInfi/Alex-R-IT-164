{
  "nbformat": 4,
  "nbformat_minor": 0,
  "metadata": {
    "colab": {
      "name": "AlexR_OWM.ipynb",
      "provenance": [],
      "collapsed_sections": [],
      "authorship_tag": "ABX9TyMzsJEFOWkN0WW7z8q3kbfA",
      "include_colab_link": true
    },
    "kernelspec": {
      "name": "python3",
      "display_name": "Python 3"
    },
    "language_info": {
      "name": "python"
    }
  },
  "cells": [
    {
      "cell_type": "markdown",
      "metadata": {
        "id": "view-in-github",
        "colab_type": "text"
      },
      "source": [
        "<a href=\"https://colab.research.google.com/github/AlexInfi/Alex-R-IT-164/blob/main/AlexR_OWM.ipynb\" target=\"_parent\"><img src=\"https://colab.research.google.com/assets/colab-badge.svg\" alt=\"Open In Colab\"/></a>"
      ]
    },
    {
      "cell_type": "code",
      "source": [
        "!pip install pyowm"
      ],
      "metadata": {
        "colab": {
          "base_uri": "https://localhost:8080/"
        },
        "id": "XvwXK8CbhhY1",
        "outputId": "c19452a4-eaf6-44d5-ba94-bb7ca1ed7e87"
      },
      "execution_count": 14,
      "outputs": [
        {
          "output_type": "stream",
          "name": "stdout",
          "text": [
            "Looking in indexes: https://pypi.org/simple, https://us-python.pkg.dev/colab-wheels/public/simple/\n",
            "Requirement already satisfied: pyowm in /usr/local/lib/python3.7/dist-packages (3.3.0)\n",
            "Requirement already satisfied: requests<3,>=2.20.0 in /usr/local/lib/python3.7/dist-packages (from pyowm) (2.23.0)\n",
            "Requirement already satisfied: PySocks<2,>=1.7.1 in /usr/local/lib/python3.7/dist-packages (from pyowm) (1.7.1)\n",
            "Requirement already satisfied: geojson<3,>=2.3.0 in /usr/local/lib/python3.7/dist-packages (from pyowm) (2.5.0)\n",
            "Requirement already satisfied: certifi>=2017.4.17 in /usr/local/lib/python3.7/dist-packages (from requests<3,>=2.20.0->pyowm) (2022.6.15)\n",
            "Requirement already satisfied: chardet<4,>=3.0.2 in /usr/local/lib/python3.7/dist-packages (from requests<3,>=2.20.0->pyowm) (3.0.4)\n",
            "Requirement already satisfied: idna<3,>=2.5 in /usr/local/lib/python3.7/dist-packages (from requests<3,>=2.20.0->pyowm) (2.10)\n",
            "Requirement already satisfied: urllib3!=1.25.0,!=1.25.1,<1.26,>=1.21.1 in /usr/local/lib/python3.7/dist-packages (from requests<3,>=2.20.0->pyowm) (1.24.3)\n"
          ]
        }
      ]
    },
    {
      "cell_type": "code",
      "execution_count": 15,
      "metadata": {
        "id": "G8p71ZUvd_Q9"
      },
      "outputs": [],
      "source": [
        "from pyowm.owm import OWM\n",
        "\n",
        "myKey = 'a69ac2bf407a802147d04cf822313598'\n",
        "owm = OWM(myKey)\n",
        "wmg = owm.weather_manager()"
      ]
    },
    {
      "cell_type": "code",
      "source": [
        "city = input('What city would you like to teleport to: ')\n",
        "country = input('What country is the city in: ')\n",
        "citycountry = city + ', ' + country\n",
        "\n",
        "observation = wmg.weather_at_place(citycountry)\n",
        "weather = observation.weather\n",
        "\n",
        "temperature = weather.temperature('fahrenheit')\n",
        "print(temperature)\n",
        "\n",
        "feellike = temperature.get ('feels_like')\n",
        "print(feellike)\n",
        "\n",
        "if feellike < 30:\n",
        "  print ('You need a winter jacket if you want to go on a walk in ', citycountry)\n",
        "elif feellike < 50:\n",
        "  print ('You need a light jacket if you want to go on a walk in ', citycountry)\n",
        "elif feellike < 70:\n",
        "  print ('You may want to dress in layers if you want to go on a walk in ', citycountry)\n",
        "else:\n",
        "  print ('You can wear your summer outfit if you want to go on a walk in ', citycountry)"
      ],
      "metadata": {
        "colab": {
          "base_uri": "https://localhost:8080/"
        },
        "id": "XIiOu17egm-z",
        "outputId": "4d2ab4bd-0978-4063-c22a-83cb9a5ba37a"
      },
      "execution_count": 16,
      "outputs": [
        {
          "output_type": "stream",
          "name": "stdout",
          "text": [
            "What city would you like to teleport to: chicago\n",
            "What country is the city in: us\n",
            "{'temp': 70.59, 'temp_max': 73.04, 'temp_min': 68.0, 'feels_like': 71.29, 'temp_kf': None}\n",
            "71.29\n",
            "You can wear your summer outfit if you want to go on a walk in  chicago, us\n"
          ]
        }
      ]
    }
  ]
}